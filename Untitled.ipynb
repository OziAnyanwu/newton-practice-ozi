{
 "cells": [
  {
   "cell_type": "code",
   "execution_count": 8,
   "id": "de564c73-2a7d-4ee4-b09a-20f182d4afca",
   "metadata": {},
   "outputs": [],
   "source": [
    "import numpy as np\n",
    "from functools import partial\n",
    "\n",
    "def optimize(start, fun):\n",
    "\n",
    "    delta = 10**(-3)\n",
    "    eps = 10**(-3)\n",
    "    last_val = start\n",
    "    first_der_func = partial(derivative, fun=fun, eps=eps)\n",
    "    first_der = first_der_func(last_val)\n",
    "    second_der = derivative(first_der_func, last_val, eps)\n",
    "    next_val = last_val - (first_der/second_der)\n",
    "\n",
    "    while abs(next_val - last_val) >= delta:\n",
    "        last_val = next_val\n",
    "        first_der_func = partial(derivative, fun=fun, eps=eps)\n",
    "        first_der = first_der_func(last_val)\n",
    "        second_der = derivative(last_val, first_der_func, eps)\n",
    "        next_val = last_val - (first_der/second_der)\n",
    "\n",
    "    return (next_val, fun(next_val))\n",
    "\n",
    "\n",
    "def derivative(x, fun, eps):\n",
    "    der = (fun(x+eps) - fun(x))/eps\n",
    "    return der"
   ]
  },
  {
   "cell_type": "code",
   "execution_count": 13,
   "id": "c0ef669b-ac25-4fc7-b10e-f8747f01973b",
   "metadata": {},
   "outputs": [],
   "source": [
    "eps = 10**(-3)\n",
    "def fun(x): return x**2\n",
    "last_val = 0\n",
    "first_der_func = partial(derivative, fun=fun, eps=eps)\n",
    "first_der = first_der_func(last_val)"
   ]
  },
  {
   "cell_type": "code",
   "execution_count": 16,
   "id": "a4df6af2-b544-456f-916a-14987ffc2f31",
   "metadata": {},
   "outputs": [],
   "source": [
    "second_der = derivative(last_val, first_der_func, eps)"
   ]
  },
  {
   "cell_type": "code",
   "execution_count": 18,
   "id": "eb77a3f5-dd52-4b0e-9a2c-178c05ebb7a4",
   "metadata": {},
   "outputs": [
    {
     "data": {
      "text/plain": [
       "2.0"
      ]
     },
     "execution_count": 18,
     "metadata": {},
     "output_type": "execute_result"
    }
   ],
   "source": [
    "second_der"
   ]
  },
  {
   "cell_type": "code",
   "execution_count": null,
   "id": "870ec7f1-a9d1-4768-a0c6-f5dcd19394f0",
   "metadata": {},
   "outputs": [],
   "source": []
  }
 ],
 "metadata": {
  "kernelspec": {
   "display_name": "Python 3 (ipykernel)",
   "language": "python",
   "name": "python3"
  },
  "language_info": {
   "codemirror_mode": {
    "name": "ipython",
    "version": 3
   },
   "file_extension": ".py",
   "mimetype": "text/x-python",
   "name": "python",
   "nbconvert_exporter": "python",
   "pygments_lexer": "ipython3",
   "version": "3.11.9"
  }
 },
 "nbformat": 4,
 "nbformat_minor": 5
}
