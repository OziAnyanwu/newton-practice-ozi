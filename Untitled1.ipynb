{
 "cells": [
  {
   "cell_type": "code",
   "execution_count": 33,
   "id": "dae32747-4499-4199-a9fa-6741e7540ef0",
   "metadata": {},
   "outputs": [],
   "source": [
    "import numpy as np\n",
    "from functools import partial\n",
    "\n",
    "\n",
    "def optimize(start, fun):\n",
    "    delta = 10 ** (-3)\n",
    "    eps = 10 ** (-3)\n",
    "    last_val = start\n",
    "    first_der_func = partial(derivative, fun=fun, eps=eps)\n",
    "    first_der = first_der_func(last_val)\n",
    "    second_der = derivative(last_val, first_der_func, eps)\n",
    "    next_val = last_val - (first_der / second_der)\n",
    "\n",
    "    while abs(next_val - last_val) >= delta:\n",
    "        last_val = next_val\n",
    "        first_der_func = partial(derivative, fun=fun, eps=eps)\n",
    "        first_der = first_der_func(last_val)\n",
    "        second_der = derivative(last_val, first_der_func, eps)\n",
    "        next_val = last_val - (first_der / second_der)\n",
    "\n",
    "    return (next_val, fun(next_val))\n",
    "\n",
    "\n",
    "def derivative(x, fun, eps):\n",
    "    %debug\n",
    "    der = (fun(str(x) + eps) - fun(x)) / eps\n",
    "    return der"
   ]
  },
  {
   "cell_type": "code",
   "execution_count": 34,
   "id": "d09fcca0-f33c-43bf-88a7-e445f99598fe",
   "metadata": {},
   "outputs": [],
   "source": [
    "def function(x): return (x**4)/4 - (x**3) - x"
   ]
  },
  {
   "cell_type": "code",
   "execution_count": 35,
   "id": "1f36cd7a-e19f-4e60-a670-4c7b18db0dad",
   "metadata": {},
   "outputs": [
    {
     "name": "stdout",
     "output_type": "stream",
     "text": [
      "> \u001b[0;32m/tmp/ipykernel_294/2863556740.py\u001b[0m(26)\u001b[0;36mderivative\u001b[0;34m()\u001b[0m\n",
      "\u001b[0;32m     23 \u001b[0;31m\u001b[0;34m\u001b[0m\u001b[0m\n",
      "\u001b[0m\u001b[0;32m     24 \u001b[0;31m\u001b[0;32mdef\u001b[0m \u001b[0mderivative\u001b[0m\u001b[0;34m(\u001b[0m\u001b[0mx\u001b[0m\u001b[0;34m,\u001b[0m \u001b[0mfun\u001b[0m\u001b[0;34m,\u001b[0m \u001b[0meps\u001b[0m\u001b[0;34m)\u001b[0m\u001b[0;34m:\u001b[0m\u001b[0;34m\u001b[0m\u001b[0;34m\u001b[0m\u001b[0m\n",
      "\u001b[0m\u001b[0;32m     25 \u001b[0;31m    \u001b[0mget_ipython\u001b[0m\u001b[0;34m(\u001b[0m\u001b[0;34m)\u001b[0m\u001b[0;34m.\u001b[0m\u001b[0mrun_line_magic\u001b[0m\u001b[0;34m(\u001b[0m\u001b[0;34m'debug'\u001b[0m\u001b[0;34m,\u001b[0m \u001b[0;34m''\u001b[0m\u001b[0;34m)\u001b[0m\u001b[0;34m\u001b[0m\u001b[0;34m\u001b[0m\u001b[0m\n",
      "\u001b[0m\u001b[0;32m---> 26 \u001b[0;31m    \u001b[0mder\u001b[0m \u001b[0;34m=\u001b[0m \u001b[0;34m(\u001b[0m\u001b[0mfun\u001b[0m\u001b[0;34m(\u001b[0m\u001b[0mstr\u001b[0m\u001b[0;34m(\u001b[0m\u001b[0mx\u001b[0m\u001b[0;34m)\u001b[0m \u001b[0;34m+\u001b[0m \u001b[0meps\u001b[0m\u001b[0;34m)\u001b[0m \u001b[0;34m-\u001b[0m \u001b[0mfun\u001b[0m\u001b[0;34m(\u001b[0m\u001b[0mx\u001b[0m\u001b[0;34m)\u001b[0m\u001b[0;34m)\u001b[0m \u001b[0;34m/\u001b[0m \u001b[0meps\u001b[0m\u001b[0;34m\u001b[0m\u001b[0;34m\u001b[0m\u001b[0m\n",
      "\u001b[0m\u001b[0;32m     27 \u001b[0;31m    \u001b[0;32mreturn\u001b[0m \u001b[0mder\u001b[0m\u001b[0;34m\u001b[0m\u001b[0;34m\u001b[0m\u001b[0m\n",
      "\u001b[0m\n"
     ]
    },
    {
     "name": "stdin",
     "output_type": "stream",
     "text": [
      "ipdb>  fun\n"
     ]
    },
    {
     "name": "stdout",
     "output_type": "stream",
     "text": [
      "<function function at 0x7d19a06c8b80>\n"
     ]
    },
    {
     "name": "stdin",
     "output_type": "stream",
     "text": [
      "ipdb>  x\n"
     ]
    },
    {
     "name": "stdout",
     "output_type": "stream",
     "text": [
      "10\n"
     ]
    },
    {
     "name": "stdin",
     "output_type": "stream",
     "text": [
      "ipdb>  eps\n"
     ]
    },
    {
     "name": "stdout",
     "output_type": "stream",
     "text": [
      "0.001\n"
     ]
    },
    {
     "name": "stdin",
     "output_type": "stream",
     "text": [
      "ipdb>  (fun(str(x) + eps) - fun(x)) / eps\n"
     ]
    },
    {
     "name": "stdout",
     "output_type": "stream",
     "text": [
      "*** TypeError: can only concatenate str (not \"float\") to str\n"
     ]
    },
    {
     "name": "stdin",
     "output_type": "stream",
     "text": [
      "ipdb>  q\n"
     ]
    },
    {
     "name": "stderr",
     "output_type": "stream",
     "text": [
      "\n",
      "PYDEV DEBUGGER WARNING:\n",
      "sys.settrace() should not be used when the debugger is being used.\n",
      "This may cause the debugger to stop working correctly.\n",
      "If this is needed, please check: \n",
      "http://pydev.blogspot.com/2007/06/why-cant-pydev-debugger-work-with.html\n",
      "to see how to restore the debug tracing back correctly.\n",
      "Call Location:\n",
      "  File \"/srv/conda/lib/python3.11/bdb.py\", line 361, in set_quit\n",
      "    sys.settrace(None)\n",
      "\n"
     ]
    },
    {
     "ename": "TypeError",
     "evalue": "can only concatenate str (not \"float\") to str",
     "output_type": "error",
     "traceback": [
      "\u001b[0;31m---------------------------------------------------------------------------\u001b[0m",
      "\u001b[0;31mTypeError\u001b[0m                                 Traceback (most recent call last)",
      "Cell \u001b[0;32mIn[35], line 1\u001b[0m\n\u001b[0;32m----> 1\u001b[0m \u001b[43moptimize\u001b[49m\u001b[43m(\u001b[49m\u001b[38;5;241;43m10\u001b[39;49m\u001b[43m,\u001b[49m\u001b[43m \u001b[49m\u001b[43mfunction\u001b[49m\u001b[43m)\u001b[49m\n",
      "Cell \u001b[0;32mIn[33], line 10\u001b[0m, in \u001b[0;36moptimize\u001b[0;34m(start, fun)\u001b[0m\n\u001b[1;32m      8\u001b[0m last_val \u001b[38;5;241m=\u001b[39m start\n\u001b[1;32m      9\u001b[0m first_der_func \u001b[38;5;241m=\u001b[39m partial(derivative, fun\u001b[38;5;241m=\u001b[39mfun, eps\u001b[38;5;241m=\u001b[39meps)\n\u001b[0;32m---> 10\u001b[0m first_der \u001b[38;5;241m=\u001b[39m \u001b[43mfirst_der_func\u001b[49m\u001b[43m(\u001b[49m\u001b[43mlast_val\u001b[49m\u001b[43m)\u001b[49m\n\u001b[1;32m     11\u001b[0m second_der \u001b[38;5;241m=\u001b[39m derivative(last_val, first_der_func, eps)\n\u001b[1;32m     12\u001b[0m next_val \u001b[38;5;241m=\u001b[39m last_val \u001b[38;5;241m-\u001b[39m (first_der \u001b[38;5;241m/\u001b[39m second_der)\n",
      "Cell \u001b[0;32mIn[33], line 26\u001b[0m, in \u001b[0;36mderivative\u001b[0;34m(x, fun, eps)\u001b[0m\n\u001b[1;32m     24\u001b[0m \u001b[38;5;28;01mdef\u001b[39;00m \u001b[38;5;21mderivative\u001b[39m(x, fun, eps):\n\u001b[1;32m     25\u001b[0m     get_ipython()\u001b[38;5;241m.\u001b[39mrun_line_magic(\u001b[38;5;124m'\u001b[39m\u001b[38;5;124mdebug\u001b[39m\u001b[38;5;124m'\u001b[39m, \u001b[38;5;124m'\u001b[39m\u001b[38;5;124m'\u001b[39m)\n\u001b[0;32m---> 26\u001b[0m     der \u001b[38;5;241m=\u001b[39m (fun(\u001b[38;5;28;43mstr\u001b[39;49m\u001b[43m(\u001b[49m\u001b[43mx\u001b[49m\u001b[43m)\u001b[49m\u001b[43m \u001b[49m\u001b[38;5;241;43m+\u001b[39;49m\u001b[43m \u001b[49m\u001b[43meps\u001b[49m) \u001b[38;5;241m-\u001b[39m fun(x)) \u001b[38;5;241m/\u001b[39m eps\n\u001b[1;32m     27\u001b[0m     \u001b[38;5;28;01mreturn\u001b[39;00m der\n",
      "\u001b[0;31mTypeError\u001b[0m: can only concatenate str (not \"float\") to str"
     ]
    }
   ],
   "source": [
    "optimize(10, function)"
   ]
  },
  {
   "cell_type": "code",
   "execution_count": null,
   "id": "2819bba1-4daf-4d75-858c-aab905ebe92f",
   "metadata": {},
   "outputs": [],
   "source": []
  }
 ],
 "metadata": {
  "kernelspec": {
   "display_name": "Python 3 (ipykernel)",
   "language": "python",
   "name": "python3"
  },
  "language_info": {
   "codemirror_mode": {
    "name": "ipython",
    "version": 3
   },
   "file_extension": ".py",
   "mimetype": "text/x-python",
   "name": "python",
   "nbconvert_exporter": "python",
   "pygments_lexer": "ipython3",
   "version": "3.11.9"
  }
 },
 "nbformat": 4,
 "nbformat_minor": 5
}
